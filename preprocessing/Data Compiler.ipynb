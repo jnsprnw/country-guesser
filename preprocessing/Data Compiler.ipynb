{
 "cells": [
  {
   "cell_type": "markdown",
   "id": "de894f79-74f8-49f9-8a7c-20d7c8bbde12",
   "metadata": {},
   "source": [
    "# Data compiler"
   ]
  },
  {
   "cell_type": "code",
   "execution_count": 144,
   "id": "6c427cf7-1779-406d-9917-37f2fb065850",
   "metadata": {},
   "outputs": [],
   "source": [
    "using JSON\n",
    "using CSV\n",
    "#using Downloads\n",
    "using DataFrames\n",
    "using HTTP"
   ]
  },
  {
   "cell_type": "markdown",
   "id": "2322c3ed-f709-4c6d-8c3b-f03227e60e50",
   "metadata": {},
   "source": [
    "# Wikidata data\n",
    "\n",
    "We request data from Wikidata to enrich our dataset.\n",
    "Inspired by this [post](https://github.com/datasets/country-codes/issues/53#issuecomment-338925597):\n",
    "\n",
    "https://query.wikidata.org/#SELECT%20%2a%20%0AWHERE%20%7B%0A%20%20%3Fitem%20wdt%3AP298%20%3Fcode%0A%7D%20ORDER%20BY%20%3Fcode\n",
    "\n",
    "```sql\n",
    "SELECT * \n",
    "WHERE {\n",
    "  ?item wdt:P298 ?code\n",
    "} ORDER BY ?code\n",
    "```\n",
    "\n",
    "This gives us a list of all entries that have the `P298` which is the [ISO 3166-1 alpha-3 code](https://www.wikidata.org/wiki/Property:P298) (You can find out the id of the property by looking at the url: `https://www.wikidata.org/wiki/Property:P298` of the property). This gives us a list of all entities that have such a code, which should only be countries)\n",
    "\n",
    "We download the list as csv file. You find this file in this directory as `wiki data urls.csv`.\n",
    "\n",
    "Next, we read this file and request all the urls. The result of each item is then stored in a dictionary with the ISO codes as keys."
   ]
  },
  {
   "cell_type": "code",
   "execution_count": 168,
   "id": "8f5e5490-995e-4694-8439-a21ee6415fd8",
   "metadata": {},
   "outputs": [
    {
     "data": {
      "text/plain": [
       "getWikiDataEntry (generic function with 1 method)"
      ]
     },
     "execution_count": 168,
     "metadata": {},
     "output_type": "execute_result"
    }
   ],
   "source": [
    "function getWikiDataEntry(id)\n",
    "    r = HTTP.request(\"GET\", \"https://www.wikidata.org/wiki/Special:EntityData/$id.json\")\n",
    "    content = JSON.parse(String(r.body))\n",
    "    content[\"entities\"][id]\n",
    "end"
   ]
  },
  {
   "cell_type": "code",
   "execution_count": 169,
   "id": "721dc8ca-8873-4b87-a75e-9225dba62d00",
   "metadata": {
    "collapsed": true,
    "jupyter": {
     "outputs_hidden": true
    },
    "tags": []
   },
   "outputs": [
    {
     "data": {
      "text/plain": [
       "Dict{String, Any} with 12 entries:\n",
       "  \"descriptions\" => Dict{String, Any}(\"cs\"=>Dict{String, Any}(\"language\"=>\"cs\",…\n",
       "  \"aliases\"      => Dict{String, Any}(\"cs\"=>Any[Dict{String, Any}(\"language\"=>\"…\n",
       "  \"id\"           => \"Q213\"\n",
       "  \"claims\"       => Dict{String, Any}(\"P9037\"=>Any[Dict{String, Any}(\"rank\"=>\"n…\n",
       "  \"lastrevid\"    => 1615181970\n",
       "  \"sitelinks\"    => Dict{String, Any}(\"ttwiki\"=>Dict{String, Any}(\"title\"=>\"Чех…\n",
       "  \"modified\"     => \"2022-04-09T13:43:02Z\"\n",
       "  \"ns\"           => 0\n",
       "  \"labels\"       => Dict{String, Any}(\"mg\"=>Dict{String, Any}(\"language\"=>\"mg\",…\n",
       "  \"pageid\"       => 355\n",
       "  \"title\"        => \"Q213\"\n",
       "  \"type\"         => \"item\""
      ]
     },
     "execution_count": 169,
     "metadata": {},
     "output_type": "execute_result"
    }
   ],
   "source": [
    "getWikiDataEntry(\"Q213\")"
   ]
  },
  {
   "cell_type": "code",
   "execution_count": 170,
   "id": "23b30713-1da7-404f-a0d6-4f10c9a6cce6",
   "metadata": {
    "tags": []
   },
   "outputs": [
    {
     "data": {
      "text/plain": [
       "Dict{Any, Any} with 269 entries:\n",
       "  \"FRA\" => Dict{String, Any}(\"descriptions\"=>Dict{String, Any}(\"scn\"=>Dict{Stri…\n",
       "  \"MAF\" => Dict{String, Any}(\"descriptions\"=>Dict{String, Any}(\"eo\"=>Dict{Strin…\n",
       "  \"MNG\" => Dict{String, Any}(\"descriptions\"=>Dict{String, Any}(\"cs\"=>Dict{Strin…\n",
       "  \"TKL\" => Dict{String, Any}(\"descriptions\"=>Dict{String, Any}(\"eo\"=>Dict{Strin…\n",
       "  \"MYT\" => Dict{String, Any}(\"descriptions\"=>Dict{String, Any}(\"cs\"=>Dict{Strin…\n",
       "  \"VGB\" => Dict{String, Any}(\"descriptions\"=>Dict{String, Any}(\"eo\"=>Dict{Strin…\n",
       "  \"ISR\" => Dict{String, Any}(\"descriptions\"=>Dict{String, Any}(\"cs\"=>Dict{Strin…\n",
       "  \"SGP\" => Dict{String, Any}(\"descriptions\"=>Dict{String, Any}(\"cs\"=>Dict{Strin…\n",
       "  \"SYC\" => Dict{String, Any}(\"descriptions\"=>Dict{String, Any}(\"cs\"=>Dict{Strin…\n",
       "  \"HVO\" => Dict{String, Any}(\"descriptions\"=>Dict{String, Any}(\"eu\"=>Dict{Strin…\n",
       "  \"KIR\" => Dict{String, Any}(\"descriptions\"=>Dict{String, Any}(\"cs\"=>Dict{Strin…\n",
       "  \"BRA\" => Dict{String, Any}(\"descriptions\"=>Dict{String, Any}(\"cs\"=>Dict{Strin…\n",
       "  \"SCG\" => Dict{String, Any}(\"descriptions\"=>Dict{String, Any}(\"eo\"=>Dict{Strin…\n",
       "  \"VEN\" => Dict{String, Any}(\"descriptions\"=>Dict{String, Any}(\"cs\"=>Dict{Strin…\n",
       "  \"TLS\" => Dict{String, Any}(\"descriptions\"=>Dict{String, Any}(\"cs\"=>Dict{Strin…\n",
       "  \"CPV\" => Dict{String, Any}(\"descriptions\"=>Dict{String, Any}(\"scn\"=>Dict{Stri…\n",
       "  \"BOL\" => Dict{String, Any}(\"descriptions\"=>Dict{String, Any}(\"cs\"=>Dict{Strin…\n",
       "  \"TWN\" => Dict{String, Any}(\"descriptions\"=>Dict{String, Any}(\"lzh\"=>Dict{Stri…\n",
       "  \"GEO\" => Dict{String, Any}(\"descriptions\"=>Dict{String, Any}(\"cs\"=>Dict{Strin…\n",
       "  \"NLD\" => Dict{String, Any}(\"descriptions\"=>Dict{String, Any}(\"cy\"=>Dict{Strin…\n",
       "  \"KAZ\" => Dict{String, Any}(\"descriptions\"=>Dict{String, Any}(\"cs\"=>Dict{Strin…\n",
       "  \"SDN\" => Dict{String, Any}(\"descriptions\"=>Dict{String, Any}(\"cs\"=>Dict{Strin…\n",
       "  \"NGA\" => Dict{String, Any}(\"descriptions\"=>Dict{String, Any}(\"cs\"=>Dict{Strin…\n",
       "  \"PAN\" => Dict{String, Any}(\"descriptions\"=>Dict{String, Any}(\"cs\"=>Dict{Strin…\n",
       "  \"JTN\" => Dict{String, Any}(\"descriptions\"=>Dict{String, Any}(\"de\"=>Dict{Strin…\n",
       "  ⋮     => ⋮"
      ]
     },
     "execution_count": 170,
     "metadata": {},
     "output_type": "execute_result"
    }
   ],
   "source": [
    "wikidata = CSV.read(\"wiki data urls.csv\", DataFrame)\n",
    "wikiIDS = Dict()\n",
    "\n",
    "for row in eachrow(urls)\n",
    "    id = replace(row[\"item\"], \"http://www.wikidata.org/entity/\" => \"\")\n",
    "    wikiIDS[row[\"code\"]] = getWikiDataEntry(id)\n",
    "end\n",
    "\n",
    "wikiIDS"
   ]
  },
  {
   "cell_type": "markdown",
   "id": "e7ee38ec-c2df-4853-a197-2a6c798d8958",
   "metadata": {},
   "source": [
    "We write this dictionary to a json file."
   ]
  },
  {
   "cell_type": "code",
   "execution_count": 175,
   "id": "98544401-8fe5-4343-957d-e17a2e6934ab",
   "metadata": {},
   "outputs": [],
   "source": [
    "open(\"countries_wiki.json\", \"w\") do f\n",
    "    JSON.print(f, wikiIDS)\n",
    "end"
   ]
  },
  {
   "cell_type": "markdown",
   "id": "6af220d3-cec3-420f-a630-9de95e98a62a",
   "metadata": {},
   "source": [
    "We are interested in the **aliases** of each entry for some languages."
   ]
  },
  {
   "cell_type": "code",
   "execution_count": 206,
   "id": "d011a3bf-eb70-4aec-a79a-628a4dbe2f34",
   "metadata": {},
   "outputs": [
    {
     "data": {
      "text/plain": [
       "(\"en\", \"en-gb\", \"en-ca\", \"de\", \"de-at\", \"de-ch\", \"fr\", \"es\", \"it\")"
      ]
     },
     "execution_count": 206,
     "metadata": {},
     "output_type": "execute_result"
    }
   ],
   "source": [
    "USED_LANGUAGES = (\"en\", \"en-gb\", \"en-ca\", \"de\", \"de-at\", \"de-ch\", \"fr\", \"es\", \"it\")"
   ]
  },
  {
   "cell_type": "code",
   "execution_count": 214,
   "id": "3d9fed75-d381-4cf0-a85d-b99cf0858dd8",
   "metadata": {
    "tags": []
   },
   "outputs": [
    {
     "data": {
      "text/plain": [
       "19-element Vector{String}:\n",
       " \"FR\"\n",
       " \"République française\"\n",
       " \"FRA\"\n",
       " \"RF\"\n",
       " \"fr\"\n",
       " \"la République française\"\n",
       " \"Fr.\"\n",
       " \"La France\"\n",
       " \"L'Hexagone\"\n",
       " \"Fille aînée de l'Église\"\n",
       " \"Pays de Molière\"\n",
       " \"República Francesa\"\n",
       " \"Republica Francesa\"\n",
       " \"Republic of France\"\n",
       " \"French Republic\"\n",
       " \"the Hexagon\"\n",
       " \"oltralpe\"\n",
       " \"Französische Republik\"\n",
       " \"Republik Frankreich\""
      ]
     },
     "execution_count": 214,
     "metadata": {},
     "output_type": "execute_result"
    }
   ],
   "source": [
    "function getAliasList(obj)\n",
    "    list = []\n",
    "    for (language_key, language) in obj\n",
    "        if (language_key in USED_LANGUAGES)\n",
    "            for item in language\n",
    "                push!(list, item[\"value\"])\n",
    "            end\n",
    "        end\n",
    "    end\n",
    "    cleanArray(list)\n",
    "end\n",
    "\n",
    "getAliasList(wikiIDS[\"FRA\"][\"aliases\"])"
   ]
  },
  {
   "cell_type": "markdown",
   "id": "12047e13-b711-4719-bb90-45a26ba6fdb1",
   "metadata": {},
   "source": [
    "We are also interested in the **labels** of each entry for some languages."
   ]
  },
  {
   "cell_type": "code",
   "execution_count": 212,
   "id": "bffeabb0-eca7-41c5-8026-fc80b4009c21",
   "metadata": {
    "tags": []
   },
   "outputs": [
    {
     "data": {
      "text/plain": [
       "3-element Vector{String}:\n",
       " \"Frankreich\"\n",
       " \"Francia\"\n",
       " \"France\""
      ]
     },
     "execution_count": 212,
     "metadata": {},
     "output_type": "execute_result"
    }
   ],
   "source": [
    "function getLabelList(obj)\n",
    "    list = []\n",
    "    for (language_key, item) in obj\n",
    "        if (language_key in USED_LANGUAGES)\n",
    "            push!(list, item[\"value\"])\n",
    "        end\n",
    "    end\n",
    "    cleanArray(list)\n",
    "end\n",
    "\n",
    "getLabelList(wikiIDS[\"FRA\"][\"labels\"])"
   ]
  },
  {
   "cell_type": "code",
   "execution_count": null,
   "id": "2c3b221e-1972-41c0-a630-a36c2445fb2b",
   "metadata": {
    "tags": []
   },
   "outputs": [],
   "source": [
    "wikiEntries = map(wikiIDS)"
   ]
  },
  {
   "cell_type": "markdown",
   "id": "a2a5aff7-5b00-47b3-8d3f-32da6e561a80",
   "metadata": {},
   "source": [
    "First, we request the current version of the list of countries from https://github.com/mledoze/countries."
   ]
  },
  {
   "cell_type": "code",
   "execution_count": 173,
   "id": "86acbe15-590c-4436-8446-b587a137054a",
   "metadata": {
    "collapsed": true,
    "jupyter": {
     "outputs_hidden": true
    },
    "tags": []
   },
   "outputs": [
    {
     "data": {
      "text/plain": [
       "250-element Vector{Any}:\n",
       " Dict{String, Any}(\"latlng\" => Any[12.5, -69.96666666], \"languages\" => Dict{String, Any}(\"nld\" => \"Dutch\", \"pap\" => \"Papiamento\"), \"name\" => Dict{String, Any}(\"common\" => \"Aruba\", \"official\" => \"Aruba\", \"native\" => Dict{String, Any}(\"nld\" => Dict{String, Any}(\"common\" => \"Aruba\", \"official\" => \"Aruba\"), \"pap\" => Dict{String, Any}(\"common\" => \"Aruba\", \"official\" => \"Aruba\"))), \"altSpellings\" => Any[\"AW\"], \"subregion\" => \"Caribbean\", \"status\" => \"officially-assigned\", \"unMember\" => false, \"tld\" => Any[\".aw\"], \"independent\" => false, \"currencies\" => Dict{String, Any}(\"AWG\" => Dict{String, Any}(\"name\" => \"Aruban florin\", \"symbol\" => \"ƒ\"))…)\n",
       " Dict{String, Any}(\"latlng\" => Any[33, 65], \"languages\" => Dict{String, Any}(\"prs\" => \"Dari\", \"tuk\" => \"Turkmen\", \"pus\" => \"Pashto\"), \"name\" => Dict{String, Any}(\"common\" => \"Afghanistan\", \"official\" => \"Islamic Republic of Afghanistan\", \"native\" => Dict{String, Any}(\"prs\" => Dict{String, Any}(\"common\" => \"افغانستان\", \"official\" => \"جمهوری اسلامی افغانستان\"), \"tuk\" => Dict{String, Any}(\"common\" => \"Owganystan\", \"official\" => \"Owganystan Yslam Respublikasy\"), \"pus\" => Dict{String, Any}(\"common\" => \"افغانستان\", \"official\" => \"د افغانستان اسلامي جمهوریت\"))), \"altSpellings\" => Any[\"AF\", \"Afġānistān\"], \"subregion\" => \"Southern Asia\", \"status\" => \"officially-assigned\", \"unMember\" => true, \"tld\" => Any[\".af\"], \"independent\" => true, \"currencies\" => Dict{String, Any}(\"AFN\" => Dict{String, Any}(\"name\" => \"Afghan afghani\", \"symbol\" => \"؋\"))…)\n",
       " Dict{String, Any}(\"latlng\" => Any[-12.5, 18.5], \"languages\" => Dict{String, Any}(\"por\" => \"Portuguese\"), \"name\" => Dict{String, Any}(\"common\" => \"Angola\", \"official\" => \"Republic of Angola\", \"native\" => Dict{String, Any}(\"por\" => Dict{String, Any}(\"common\" => \"Angola\", \"official\" => \"República de Angola\"))), \"altSpellings\" => Any[\"AO\", \"República de Angola\", \"ʁɛpublika de an'ɡɔla\"], \"subregion\" => \"Middle Africa\", \"status\" => \"officially-assigned\", \"unMember\" => true, \"tld\" => Any[\".ao\"], \"independent\" => true, \"currencies\" => Dict{String, Any}(\"AOA\" => Dict{String, Any}(\"name\" => \"Angolan kwanza\", \"symbol\" => \"Kz\"))…)\n",
       " Dict{String, Any}(\"latlng\" => Any[18.25, -63.16666666], \"languages\" => Dict{String, Any}(\"eng\" => \"English\"), \"name\" => Dict{String, Any}(\"common\" => \"Anguilla\", \"official\" => \"Anguilla\", \"native\" => Dict{String, Any}(\"eng\" => Dict{String, Any}(\"common\" => \"Anguilla\", \"official\" => \"Anguilla\"))), \"altSpellings\" => Any[\"AI\"], \"subregion\" => \"Caribbean\", \"status\" => \"officially-assigned\", \"unMember\" => false, \"tld\" => Any[\".ai\"], \"independent\" => false, \"currencies\" => Dict{String, Any}(\"XCD\" => Dict{String, Any}(\"name\" => \"Eastern Caribbean dollar\", \"symbol\" => \"\\$\"))…)\n",
       " Dict{String, Any}(\"latlng\" => Any[60.116667, 19.9], \"languages\" => Dict{String, Any}(\"swe\" => \"Swedish\"), \"name\" => Dict{String, Any}(\"common\" => \"Åland Islands\", \"official\" => \"Åland Islands\", \"native\" => Dict{String, Any}(\"swe\" => Dict{String, Any}(\"common\" => \"Åland\", \"official\" => \"Landskapet Åland\"))), \"altSpellings\" => Any[\"AX\", \"Aaland\", \"Aland\", \"Ahvenanmaa\"], \"subregion\" => \"Northern Europe\", \"status\" => \"officially-assigned\", \"unMember\" => false, \"tld\" => Any[\".ax\"], \"independent\" => false, \"currencies\" => Dict{String, Any}(\"EUR\" => Dict{String, Any}(\"name\" => \"Euro\", \"symbol\" => \"€\"))…)\n",
       " Dict{String, Any}(\"latlng\" => Any[41, 20], \"languages\" => Dict{String, Any}(\"sqi\" => \"Albanian\"), \"name\" => Dict{String, Any}(\"common\" => \"Albania\", \"official\" => \"Republic of Albania\", \"native\" => Dict{String, Any}(\"sqi\" => Dict{String, Any}(\"common\" => \"Shqipëria\", \"official\" => \"Republika e Shqipërisë\"))), \"altSpellings\" => Any[\"AL\", \"Shqipëri\", \"Shqipëria\", \"Shqipnia\"], \"subregion\" => \"Southeast Europe\", \"status\" => \"officially-assigned\", \"unMember\" => true, \"tld\" => Any[\".al\"], \"independent\" => true, \"currencies\" => Dict{String, Any}(\"ALL\" => Dict{String, Any}(\"name\" => \"Albanian lek\", \"symbol\" => \"L\"))…)\n",
       " Dict{String, Any}(\"latlng\" => Any[42.5, 1.5], \"languages\" => Dict{String, Any}(\"cat\" => \"Catalan\"), \"name\" => Dict{String, Any}(\"common\" => \"Andorra\", \"official\" => \"Principality of Andorra\", \"native\" => Dict{String, Any}(\"cat\" => Dict{String, Any}(\"common\" => \"Andorra\", \"official\" => \"Principat d'Andorra\"))), \"altSpellings\" => Any[\"AD\", \"Principality of Andorra\", \"Principat d'Andorra\"], \"subregion\" => \"Southern Europe\", \"status\" => \"officially-assigned\", \"unMember\" => true, \"tld\" => Any[\".ad\"], \"independent\" => true, \"currencies\" => Dict{String, Any}(\"EUR\" => Dict{String, Any}(\"name\" => \"Euro\", \"symbol\" => \"€\"))…)\n",
       " Dict{String, Any}(\"latlng\" => Any[24, 54], \"languages\" => Dict{String, Any}(\"ara\" => \"Arabic\"), \"name\" => Dict{String, Any}(\"common\" => \"United Arab Emirates\", \"official\" => \"United Arab Emirates\", \"native\" => Dict{String, Any}(\"ara\" => Dict{String, Any}(\"common\" => \"دولة الإمارات العربية المتحدة\", \"official\" => \"الإمارات العربية المتحدة\"))), \"altSpellings\" => Any[\"AE\", \"UAE\", \"Emirates\"], \"subregion\" => \"Western Asia\", \"status\" => \"officially-assigned\", \"unMember\" => true, \"tld\" => Any[\".ae\", \"امارات.\"], \"independent\" => true, \"currencies\" => Dict{String, Any}(\"AED\" => Dict{String, Any}(\"name\" => \"United Arab Emirates dirham\", \"symbol\" => \"د.إ\"))…)\n",
       " Dict{String, Any}(\"latlng\" => Any[-34, -64], \"languages\" => Dict{String, Any}(\"grn\" => \"Guaraní\", \"spa\" => \"Spanish\"), \"name\" => Dict{String, Any}(\"common\" => \"Argentina\", \"official\" => \"Argentine Republic\", \"native\" => Dict{String, Any}(\"grn\" => Dict{String, Any}(\"common\" => \"Argentina\", \"official\" => \"Argentine Republic\"), \"spa\" => Dict{String, Any}(\"common\" => \"Argentina\", \"official\" => \"República Argentina\"))), \"altSpellings\" => Any[\"AR\", \"Argentine Republic\", \"República Argentina\"], \"subregion\" => \"South America\", \"status\" => \"officially-assigned\", \"unMember\" => true, \"tld\" => Any[\".ar\"], \"independent\" => true, \"currencies\" => Dict{String, Any}(\"ARS\" => Dict{String, Any}(\"name\" => \"Argentine peso\", \"symbol\" => \"\\$\"))…)\n",
       " Dict{String, Any}(\"latlng\" => Any[40, 45], \"languages\" => Dict{String, Any}(\"hye\" => \"Armenian\"), \"name\" => Dict{String, Any}(\"common\" => \"Armenia\", \"official\" => \"Republic of Armenia\", \"native\" => Dict{String, Any}(\"hye\" => Dict{String, Any}(\"common\" => \"Հայաստան\", \"official\" => \"Հայաստանի Հանրապետություն\"))), \"altSpellings\" => Any[\"AM\", \"Hayastan\", \"Republic of Armenia\", \"Հայաստանի Հանրապետություն\"], \"subregion\" => \"Western Asia\", \"status\" => \"officially-assigned\", \"unMember\" => true, \"tld\" => Any[\".am\"], \"independent\" => true, \"currencies\" => Dict{String, Any}(\"AMD\" => Dict{String, Any}(\"name\" => \"Armenian dram\", \"symbol\" => \"֏\"))…)\n",
       " Dict{String, Any}(\"latlng\" => Any[-14.33333333, -170], \"languages\" => Dict{String, Any}(\"smo\" => \"Samoan\", \"eng\" => \"English\"), \"name\" => Dict{String, Any}(\"common\" => \"American Samoa\", \"official\" => \"American Samoa\", \"native\" => Dict{String, Any}(\"smo\" => Dict{String, Any}(\"common\" => \"Sāmoa Amelika\", \"official\" => \"Sāmoa Amelika\"), \"eng\" => Dict{String, Any}(\"common\" => \"American Samoa\", \"official\" => \"American Samoa\"))), \"altSpellings\" => Any[\"AS\", \"Amerika Sāmoa\", \"Amelika Sāmoa\", \"Sāmoa Amelika\"], \"subregion\" => \"Polynesia\", \"status\" => \"officially-assigned\", \"unMember\" => false, \"tld\" => Any[\".as\"], \"independent\" => false, \"currencies\" => Dict{String, Any}(\"USD\" => Dict{String, Any}(\"name\" => \"United States dollar\", \"symbol\" => \"\\$\"))…)\n",
       " Dict{String, Any}(\"latlng\" => Any[-90, 0], \"languages\" => Dict{String, Any}(), \"name\" => Dict{String, Any}(\"common\" => \"Antarctica\", \"official\" => \"Antarctica\", \"native\" => Dict{String, Any}()), \"altSpellings\" => Any[\"AQ\"], \"subregion\" => \"\", \"status\" => \"officially-assigned\", \"unMember\" => false, \"tld\" => Any[\".aq\"], \"independent\" => false, \"currencies\" => Dict{String, Any}()…)\n",
       " Dict{String, Any}(\"latlng\" => Any[-49.25, 69.167], \"languages\" => Dict{String, Any}(\"fra\" => \"French\"), \"name\" => Dict{String, Any}(\"common\" => \"French Southern and Antarctic Lands\", \"official\" => \"Territory of the French Southern and Antarctic Lands\", \"native\" => Dict{String, Any}(\"fra\" => Dict{String, Any}(\"common\" => \"Terres australes et antarctiques françaises\", \"official\" => \"Territoire des Terres australes et antarctiques françaises\"))), \"altSpellings\" => Any[\"TF\", \"French Southern Territories\"], \"subregion\" => \"\", \"status\" => \"officially-assigned\", \"unMember\" => false, \"tld\" => Any[\".tf\"], \"independent\" => false, \"currencies\" => Dict{String, Any}(\"EUR\" => Dict{String, Any}(\"name\" => \"Euro\", \"symbol\" => \"€\"))…)\n",
       " ⋮\n",
       " Dict{String, Any}(\"latlng\" => Any[13.25, -61.2], \"languages\" => Dict{String, Any}(\"eng\" => \"English\"), \"name\" => Dict{String, Any}(\"common\" => \"Saint Vincent and the Grenadines\", \"official\" => \"Saint Vincent and the Grenadines\", \"native\" => Dict{String, Any}(\"eng\" => Dict{String, Any}(\"common\" => \"Saint Vincent and the Grenadines\", \"official\" => \"Saint Vincent and the Grenadines\"))), \"altSpellings\" => Any[\"VC\"], \"subregion\" => \"Caribbean\", \"status\" => \"officially-assigned\", \"unMember\" => true, \"tld\" => Any[\".vc\"], \"independent\" => true, \"currencies\" => Dict{String, Any}(\"XCD\" => Dict{String, Any}(\"name\" => \"Eastern Caribbean dollar\", \"symbol\" => \"\\$\"))…)\n",
       " Dict{String, Any}(\"latlng\" => Any[8, -66], \"languages\" => Dict{String, Any}(\"spa\" => \"Spanish\"), \"name\" => Dict{String, Any}(\"common\" => \"Venezuela\", \"official\" => \"Bolivarian Republic of Venezuela\", \"native\" => Dict{String, Any}(\"spa\" => Dict{String, Any}(\"common\" => \"Venezuela\", \"official\" => \"República Bolivariana de Venezuela\"))), \"altSpellings\" => Any[\"VE\", \"Bolivarian Republic of Venezuela\", \"Venezuela, Bolivarian Republic of\", \"República Bolivariana de Venezuela\"], \"subregion\" => \"South America\", \"status\" => \"officially-assigned\", \"unMember\" => true, \"tld\" => Any[\".ve\"], \"independent\" => true, \"currencies\" => Dict{String, Any}(\"VES\" => Dict{String, Any}(\"name\" => \"Venezuelan bolívar soberano\", \"symbol\" => \"Bs.S.\"))…)\n",
       " Dict{String, Any}(\"latlng\" => Any[18.431383, -64.62305], \"languages\" => Dict{String, Any}(\"eng\" => \"English\"), \"name\" => Dict{String, Any}(\"common\" => \"British Virgin Islands\", \"official\" => \"Virgin Islands\", \"native\" => Dict{String, Any}(\"eng\" => Dict{String, Any}(\"common\" => \"British Virgin Islands\", \"official\" => \"Virgin Islands\"))), \"altSpellings\" => Any[\"VG\", \"Virgin Islands, British\"], \"subregion\" => \"Caribbean\", \"status\" => \"officially-assigned\", \"unMember\" => false, \"tld\" => Any[\".vg\"], \"independent\" => false, \"currencies\" => Dict{String, Any}(\"USD\" => Dict{String, Any}(\"name\" => \"United States dollar\", \"symbol\" => \"\\$\"))…)\n",
       " Dict{String, Any}(\"latlng\" => Any[18.35, -64.933333], \"languages\" => Dict{String, Any}(\"eng\" => \"English\"), \"name\" => Dict{String, Any}(\"common\" => \"United States Virgin Islands\", \"official\" => \"Virgin Islands of the United States\", \"native\" => Dict{String, Any}(\"eng\" => Dict{String, Any}(\"common\" => \"United States Virgin Islands\", \"official\" => \"Virgin Islands of the United States\"))), \"altSpellings\" => Any[\"VI\", \"Virgin Islands, U.S.\"], \"subregion\" => \"Caribbean\", \"status\" => \"officially-assigned\", \"unMember\" => false, \"tld\" => Any[\".vi\"], \"independent\" => false, \"currencies\" => Dict{String, Any}(\"USD\" => Dict{String, Any}(\"name\" => \"United States dollar\", \"symbol\" => \"\\$\"))…)\n",
       " Dict{String, Any}(\"latlng\" => Any[16.16666666, 107.83333333], \"languages\" => Dict{String, Any}(\"vie\" => \"Vietnamese\"), \"name\" => Dict{String, Any}(\"common\" => \"Vietnam\", \"official\" => \"Socialist Republic of Vietnam\", \"native\" => Dict{String, Any}(\"vie\" => Dict{String, Any}(\"common\" => \"Việt Nam\", \"official\" => \"Cộng hòa xã hội chủ nghĩa Việt Nam\"))), \"altSpellings\" => Any[\"VN\", \"Socialist Republic of Vietnam\", \"Cộng hòa Xã hội chủ nghĩa Việt Nam\", \"Viet Nam\"], \"subregion\" => \"South-Eastern Asia\", \"status\" => \"officially-assigned\", \"unMember\" => true, \"tld\" => Any[\".vn\"], \"independent\" => true, \"currencies\" => Dict{String, Any}(\"VND\" => Dict{String, Any}(\"name\" => \"Vietnamese đồng\", \"symbol\" => \"₫\"))…)\n",
       " Dict{String, Any}(\"latlng\" => Any[-16, 167], \"languages\" => Dict{String, Any}(\"fra\" => \"French\", \"bis\" => \"Bislama\", \"eng\" => \"English\"), \"name\" => Dict{String, Any}(\"common\" => \"Vanuatu\", \"official\" => \"Republic of Vanuatu\", \"native\" => Dict{String, Any}(\"fra\" => Dict{String, Any}(\"common\" => \"Vanuatu\", \"official\" => \"République de Vanuatu\"), \"bis\" => Dict{String, Any}(\"common\" => \"Vanuatu\", \"official\" => \"Ripablik blong Vanuatu\"), \"eng\" => Dict{String, Any}(\"common\" => \"Vanuatu\", \"official\" => \"Republic of Vanuatu\"))), \"altSpellings\" => Any[\"VU\", \"Republic of Vanuatu\", \"Ripablik blong Vanuatu\", \"République de Vanuatu\"], \"subregion\" => \"Melanesia\", \"status\" => \"officially-assigned\", \"unMember\" => true, \"tld\" => Any[\".vu\"], \"independent\" => true, \"currencies\" => Dict{String, Any}(\"VUV\" => Dict{String, Any}(\"name\" => \"Vanuatu vatu\", \"symbol\" => \"Vt\"))…)\n",
       " Dict{String, Any}(\"latlng\" => Any[-13.3, -176.2], \"languages\" => Dict{String, Any}(\"fra\" => \"French\"), \"name\" => Dict{String, Any}(\"common\" => \"Wallis and Futuna\", \"official\" => \"Territory of the Wallis and Futuna Islands\", \"native\" => Dict{String, Any}(\"fra\" => Dict{String, Any}(\"common\" => \"Wallis et Futuna\", \"official\" => \"Territoire des îles Wallis et Futuna\"))), \"altSpellings\" => Any[\"WF\", \"Territory of the Wallis and Futuna Islands\", \"Territoire des îles Wallis et Futuna\"], \"subregion\" => \"Polynesia\", \"status\" => \"officially-assigned\", \"unMember\" => false, \"tld\" => Any[\".wf\"], \"independent\" => false, \"currencies\" => Dict{String, Any}(\"XPF\" => Dict{String, Any}(\"name\" => \"CFP franc\", \"symbol\" => \"₣\"))…)\n",
       " Dict{String, Any}(\"latlng\" => Any[-13.58333333, -172.33333333], \"languages\" => Dict{String, Any}(\"smo\" => \"Samoan\", \"eng\" => \"English\"), \"name\" => Dict{String, Any}(\"common\" => \"Samoa\", \"official\" => \"Independent State of Samoa\", \"native\" => Dict{String, Any}(\"smo\" => Dict{String, Any}(\"common\" => \"Sāmoa\", \"official\" => \"Malo Saʻoloto Tutoʻatasi o Sāmoa\"), \"eng\" => Dict{String, Any}(\"common\" => \"Samoa\", \"official\" => \"Independent State of Samoa\"))), \"altSpellings\" => Any[\"WS\", \"Independent State of Samoa\", \"Malo Saʻoloto Tutoʻatasi o Sāmoa\"], \"subregion\" => \"Polynesia\", \"status\" => \"officially-assigned\", \"unMember\" => true, \"tld\" => Any[\".ws\"], \"independent\" => true, \"currencies\" => Dict{String, Any}(\"WST\" => Dict{String, Any}(\"name\" => \"Samoan tālā\", \"symbol\" => \"T\"))…)\n",
       " Dict{String, Any}(\"latlng\" => Any[15, 48], \"languages\" => Dict{String, Any}(\"ara\" => \"Arabic\"), \"name\" => Dict{String, Any}(\"common\" => \"Yemen\", \"official\" => \"Republic of Yemen\", \"native\" => Dict{String, Any}(\"ara\" => Dict{String, Any}(\"common\" => \"اليَمَن\", \"official\" => \"الجمهورية اليمنية\"))), \"altSpellings\" => Any[\"YE\", \"Yemeni Republic\", \"al-Jumhūriyyah al-Yamaniyyah\"], \"subregion\" => \"Western Asia\", \"status\" => \"officially-assigned\", \"unMember\" => true, \"tld\" => Any[\".ye\"], \"independent\" => true, \"currencies\" => Dict{String, Any}(\"YER\" => Dict{String, Any}(\"name\" => \"Yemeni rial\", \"symbol\" => \"﷼\"))…)\n",
       " Dict{String, Any}(\"latlng\" => Any[-29, 24], \"languages\" => Dict{String, Any}(\"zul\" => \"Zulu\", \"afr\" => \"Afrikaans\", \"ssw\" => \"Swazi\", \"ven\" => \"Venda\", \"nbl\" => \"Southern Ndebele\", \"nso\" => \"Northern Sotho\", \"tso\" => \"Tsonga\", \"tsn\" => \"Tswana\", \"sot\" => \"Southern Sotho\", \"eng\" => \"English\"…), \"name\" => Dict{String, Any}(\"common\" => \"South Africa\", \"official\" => \"Republic of South Africa\", \"native\" => Dict{String, Any}(\"zul\" => Dict{String, Any}(\"common\" => \"Ningizimu Afrika\", \"official\" => \"IRiphabliki yaseNingizimu Afrika\"), \"afr\" => Dict{String, Any}(\"common\" => \"South Africa\", \"official\" => \"Republiek van Suid-Afrika\"), \"ssw\" => Dict{String, Any}(\"common\" => \"Ningizimu Afrika\", \"official\" => \"IRiphabhulikhi yeNingizimu Afrika\"), \"ven\" => Dict{String, Any}(\"common\" => \"Afurika Tshipembe\", \"official\" => \"Riphabuḽiki ya Afurika Tshipembe\"), \"nbl\" => Dict{String, Any}(\"common\" => \"Sewula Afrika\", \"official\" => \"IRiphabliki yeSewula Afrika\"), \"nso\" => Dict{String, Any}(\"common\" => \"Afrika-Borwa\", \"official\" => \"Rephaboliki ya Afrika-Borwa \"), \"tso\" => Dict{String, Any}(\"common\" => \"Afrika Dzonga\", \"official\" => \"Riphabliki ra Afrika Dzonga\"), \"tsn\" => Dict{String, Any}(\"common\" => \"Aforika Borwa\", \"official\" => \"Rephaboliki ya Aforika Borwa\"), \"sot\" => Dict{String, Any}(\"common\" => \"Afrika Borwa\", \"official\" => \"Rephaboliki ya Afrika Borwa\"), \"eng\" => Dict{String, Any}(\"common\" => \"South Africa\", \"official\" => \"Republic of South Africa\")…)), \"altSpellings\" => Any[\"ZA\", \"RSA\", \"Suid-Afrika\", \"Republic of South Africa\"], \"subregion\" => \"Southern Africa\", \"status\" => \"officially-assigned\", \"unMember\" => true, \"tld\" => Any[\".za\"], \"independent\" => true, \"currencies\" => Dict{String, Any}(\"ZAR\" => Dict{String, Any}(\"name\" => \"South African rand\", \"symbol\" => \"R\"))…)\n",
       " Dict{String, Any}(\"latlng\" => Any[-15, 30], \"languages\" => Dict{String, Any}(\"eng\" => \"English\"), \"name\" => Dict{String, Any}(\"common\" => \"Zambia\", \"official\" => \"Republic of Zambia\", \"native\" => Dict{String, Any}(\"eng\" => Dict{String, Any}(\"common\" => \"Zambia\", \"official\" => \"Republic of Zambia\"))), \"altSpellings\" => Any[\"ZM\", \"Republic of Zambia\"], \"subregion\" => \"Eastern Africa\", \"status\" => \"officially-assigned\", \"unMember\" => true, \"tld\" => Any[\".zm\"], \"independent\" => true, \"currencies\" => Dict{String, Any}(\"ZMW\" => Dict{String, Any}(\"name\" => \"Zambian kwacha\", \"symbol\" => \"ZK\"))…)\n",
       " Dict{String, Any}(\"latlng\" => Any[-20, 30], \"languages\" => Dict{String, Any}(\"kck\" => \"Kalanga\", \"zib\" => \"Zimbabwean Sign Language\", \"sna\" => \"Shona\", \"khi\" => \"Khoisan\", \"nya\" => \"Chewa\", \"ven\" => \"Venda\", \"toi\" => \"Tonga\", \"nde\" => \"Northern Ndebele\", \"tso\" => \"Tsonga\", \"tsn\" => \"Tswana\"…), \"name\" => Dict{String, Any}(\"common\" => \"Zimbabwe\", \"official\" => \"Republic of Zimbabwe\", \"native\" => Dict{String, Any}(\"kck\" => Dict{String, Any}(\"common\" => \"Zimbabwe\", \"official\" => \"Republic of Zimbabwe\"), \"zib\" => Dict{String, Any}(\"common\" => \"Zimbabwe\", \"official\" => \"Republic of Zimbabwe\"), \"sna\" => Dict{String, Any}(\"common\" => \"Zimbabwe\", \"official\" => \"Republic of Zimbabwe\"), \"khi\" => Dict{String, Any}(\"common\" => \"Zimbabwe\", \"official\" => \"Republic of Zimbabwe\"), \"nya\" => Dict{String, Any}(\"common\" => \"Zimbabwe\", \"official\" => \"Republic of Zimbabwe\"), \"ven\" => Dict{String, Any}(\"common\" => \"Zimbabwe\", \"official\" => \"Republic of Zimbabwe\"), \"toi\" => Dict{String, Any}(\"common\" => \"Zimbabwe\", \"official\" => \"Republic of Zimbabwe\"), \"nde\" => Dict{String, Any}(\"common\" => \"Zimbabwe\", \"official\" => \"Republic of Zimbabwe\"), \"tso\" => Dict{String, Any}(\"common\" => \"Zimbabwe\", \"official\" => \"Republic of Zimbabwe\"), \"tsn\" => Dict{String, Any}(\"common\" => \"Zimbabwe\", \"official\" => \"Republic of Zimbabwe\")…)), \"altSpellings\" => Any[\"ZW\", \"Republic of Zimbabwe\"], \"subregion\" => \"Eastern Africa\", \"status\" => \"officially-assigned\", \"unMember\" => true, \"tld\" => Any[\".zw\"], \"independent\" => true, \"currencies\" => Dict{String, Any}(\"EUR\" => Dict{String, Any}(\"name\" => \"Euro\", \"symbol\" => \"€\"), \"GBP\" => Dict{String, Any}(\"name\" => \"British pound\", \"symbol\" => \"£\"), \"JPY\" => Dict{String, Any}(\"name\" => \"Japanese yen\", \"symbol\" => \"¥\"), \"CNY\" => Dict{String, Any}(\"name\" => \"Chinese yuan\", \"symbol\" => \"¥\"), \"INR\" => Dict{String, Any}(\"name\" => \"Indian rupee\", \"symbol\" => \"₹\"), \"USD\" => Dict{String, Any}(\"name\" => \"United States dollar\", \"symbol\" => \"\\$\"), \"ZWB\" => Dict{String, Any}(\"name\" => \"Zimbabwean bonds\", \"symbol\" => \"\\$\"), \"ZAR\" => Dict{String, Any}(\"name\" => \"South African rand\", \"symbol\" => \"Rs\"), \"BWP\" => Dict{String, Any}(\"name\" => \"Botswana pula\", \"symbol\" => \"P\"))…)"
      ]
     },
     "execution_count": 173,
     "metadata": {},
     "output_type": "execute_result"
    }
   ],
   "source": [
    "r = HTTP.request(\"GET\", \"https://raw.githubusercontent.com/mledoze/countries/master/countries.json\")\n",
    "countries_mledoze = JSON.parse(String(r.body))"
   ]
  },
  {
   "cell_type": "code",
   "execution_count": 216,
   "id": "aefb6f2e-65ef-495f-a693-fca74e2d7cff",
   "metadata": {},
   "outputs": [
    {
     "data": {
      "text/plain": [
       "4-element Vector{String}:\n",
       " \"cca2\"\n",
       " \"ccn3\"\n",
       " \"cca3\"\n",
       " \"cioc\""
      ]
     },
     "execution_count": 216,
     "metadata": {},
     "output_type": "execute_result"
    }
   ],
   "source": [
    "EXCLUDED_LANGUAGES = [\"jpn\", \"zho\", \"kor\", \"per\", \"rus\", \"urd\", \"pus\", ] # Japanese and Chinese\n",
    "NAME_TYPES = [\"official\", \"common\"]\n",
    "CODES = [\"cca2\", \"ccn3\", \"cca3\", \"cioc\"]"
   ]
  },
  {
   "cell_type": "code",
   "execution_count": 247,
   "id": "8779251d-5412-4875-b252-d49c348b77f4",
   "metadata": {},
   "outputs": [
    {
     "data": {
      "text/plain": [
       "cleanArray (generic function with 1 method)"
      ]
     },
     "execution_count": 247,
     "metadata": {},
     "output_type": "execute_result"
    }
   ],
   "source": [
    "function cleanArray(arr)\n",
    "    unique(map(d -> lowercase(d), vcat(arr...)))\n",
    "end"
   ]
  },
  {
   "cell_type": "code",
   "execution_count": 127,
   "id": "6c911c67-d47b-4104-a8c3-341687353ee8",
   "metadata": {},
   "outputs": [
    {
     "data": {
      "text/plain": [
       "getCodes (generic function with 1 method)"
      ]
     },
     "execution_count": 127,
     "metadata": {},
     "output_type": "execute_result"
    }
   ],
   "source": [
    "function getNames(obj)\n",
    "    return map(n -> obj[n], NAME_TYPES)\n",
    "end"
   ]
  },
  {
   "cell_type": "code",
   "execution_count": 120,
   "id": "7db46d5c-6410-450f-83f6-681dddb7792c",
   "metadata": {},
   "outputs": [
    {
     "data": {
      "text/plain": [
       "extractFromObject (generic function with 1 method)"
      ]
     },
     "execution_count": 120,
     "metadata": {},
     "output_type": "execute_result"
    }
   ],
   "source": [
    "function extractFromObject(obj)\n",
    "    values = []\n",
    "    for (key, value) in obj\n",
    "        if !in(key, EXCLUDED_LANGUAGES)\n",
    "            push!(values, getNames(value))\n",
    "        end\n",
    "    end\n",
    "    return cleanArray(values)\n",
    "end"
   ]
  },
  {
   "cell_type": "code",
   "execution_count": 256,
   "id": "922af641-e0ce-4a5e-b064-3e8c236520bc",
   "metadata": {},
   "outputs": [
    {
     "data": {
      "text/plain": [
       "deleteCodes (generic function with 2 methods)"
      ]
     },
     "execution_count": 256,
     "metadata": {},
     "output_type": "execute_result"
    }
   ],
   "source": [
    "function deleteCodes(variations, country)\n",
    "    for code in CODES\n",
    "        label = lowercase(country[code])\n",
    "        index = findfirst(isequal(label), variations)\n",
    "        if (!isnothing(index))\n",
    "            # println(\"found $label at $index\")\n",
    "            # println(variations)\n",
    "            deleteat!(variations, index) \n",
    "            # println(variations)\n",
    "        end\n",
    "    end\n",
    "    variations\n",
    "end"
   ]
  },
  {
   "cell_type": "code",
   "execution_count": 265,
   "id": "3676c49a-e877-49cd-b2f3-b3916360f196",
   "metadata": {
    "tags": []
   },
   "outputs": [],
   "source": [
    "function processCountry((index, country))\n",
    "    variations = cleanArray([\n",
    "        extractFromObject(country[\"name\"][\"native\"]),\n",
    "        extractFromObject(country[\"translations\"]),\n",
    "        getNames(country[\"name\"]),\n",
    "        country[\"altSpellings\"]\n",
    "    ])\n",
    "    if (haskey(wikiIDS, country[\"cca3\"]))\n",
    "        append!(variations, getLabelList(wikiIDS[country[\"cca3\"]][\"labels\"]))\n",
    "        append!(variations, getAliasList(wikiIDS[country[\"cca3\"]][\"aliases\"]))\n",
    "    end\n",
    "    variations = cleanArray(variations)\n",
    "    variations = deleteCodes(variations, country)\n",
    "    obj = Dict{String,Any}(\n",
    "        \"i\" => index - 1,\n",
    "        \"variations\" => variations\n",
    "    )\n",
    "    foreach(d -> obj[d] = country[\"name\"][d], NAME_TYPES)\n",
    "    foreach(d -> obj[d] = country[d], CODES)\n",
    "    # println(findfirst(isequal(country[\"cca2\"]), variations))\n",
    "    # println(country[\"cca3\"])\n",
    "    return obj\n",
    "    # println(obj)\n",
    "end\n",
    "\n",
    "countries = map(processCountry, enumerate(countries_mledoze))\n",
    "\n",
    "open(\"countries_with_wikidata.json\", \"w\") do f\n",
    "    JSON.print(f, countries, 2)\n",
    "end"
   ]
  },
  {
   "cell_type": "code",
   "execution_count": 159,
   "id": "3b50c8a1-8de6-402f-b903-f12657a76047",
   "metadata": {},
   "outputs": [
    {
     "data": {
      "text/plain": [
       "Dict{Any, Any} with 269 entries:\n",
       "  \"FRA\" => \"Q142\"\n",
       "  \"MAF\" => \"Q126125\"\n",
       "  \"MNG\" => \"Q711\"\n",
       "  \"TKL\" => \"Q36823\"\n",
       "  \"MYT\" => \"Q17063\"\n",
       "  \"VGB\" => \"Q25305\"\n",
       "  \"ISR\" => \"Q801\"\n",
       "  \"SGP\" => \"Q334\"\n",
       "  \"SYC\" => \"Q1042\"\n",
       "  \"HVO\" => \"Q797422\"\n",
       "  \"KIR\" => \"Q710\"\n",
       "  \"BRA\" => \"Q155\"\n",
       "  \"SCG\" => \"Q37024\"\n",
       "  \"VEN\" => \"Q717\"\n",
       "  \"TLS\" => \"Q574\"\n",
       "  \"CPV\" => \"Q1011\"\n",
       "  \"BOL\" => \"Q750\"\n",
       "  \"TWN\" => \"Q865\"\n",
       "  \"GEO\" => \"Q230\"\n",
       "  \"NLD\" => \"Q29999\"\n",
       "  \"KAZ\" => \"Q232\"\n",
       "  \"SDN\" => \"Q1049\"\n",
       "  \"NGA\" => \"Q1033\"\n",
       "  \"PAN\" => \"Q804\"\n",
       "  \"JTN\" => \"Q131008\"\n",
       "  ⋮     => ⋮"
      ]
     },
     "execution_count": 159,
     "metadata": {},
     "output_type": "execute_result"
    }
   ],
   "source": []
  },
  {
   "cell_type": "code",
   "execution_count": null,
   "id": "93bf240f-f996-4554-8c83-defab3527a7a",
   "metadata": {},
   "outputs": [],
   "source": []
  }
 ],
 "metadata": {
  "kernelspec": {
   "display_name": "Julia 1.7.2",
   "language": "julia",
   "name": "julia-1.7"
  },
  "language_info": {
   "file_extension": ".jl",
   "mimetype": "application/julia",
   "name": "julia",
   "version": "1.7.2"
  }
 },
 "nbformat": 4,
 "nbformat_minor": 5
}
